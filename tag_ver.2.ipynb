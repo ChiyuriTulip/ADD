{
 "cells": [
  {
   "cell_type": "markdown",
   "id": "5f57eb2e",
   "metadata": {},
   "source": [
    "# ver.2"
   ]
  },
  {
   "cell_type": "markdown",
   "id": "583f9643",
   "metadata": {},
   "source": [
    "－ ver.1「ちゆり」「ちゆりちゃん」　の、文言修正"
   ]
  },
  {
   "cell_type": "raw",
   "id": "e63d4a44",
   "metadata": {},
   "source": []
  },
  {
   "cell_type": "markdown",
   "id": "c7f41a37",
   "metadata": {},
   "source": [
    "＊＊＊テレワークの日（平日）＊＊＊"
   ]
  },
  {
   "cell_type": "code",
   "execution_count": null,
   "id": "354dd762",
   "metadata": {},
   "outputs": [],
   "source": [
    "import random\n",
    "\n",
    "def tag():\n",
    "    tag = [\"#work\", \"#experiment\", \"#room\", \"#home\", \"#walking\", \"#science\", \"#lifestyle\", \"#city\", \"#park\"]\n",
    "    return random.choice(tag)\n",
    "title = tag()\n",
    "\n",
    "def name():\n",
    "    name = [\"Nagayama Chiyuri\", \"Chiyuri Nagayama\", \"Nagayama Tiyuri\", \"Tiyuri Nagayama\",\n",
    "            \"Chiyuri Chiyuri\", \"Chiyuri Tiyuri\", \"Tiyuri Chiyuri\"]\n",
    "    return random.choice(name)\n",
    "meishi = name()\n",
    "\n",
    "print(title, meishi)\n",
    "\n",
    "def tag1():\n",
    "    tag1 = [\"chiyuri\", \"tiyuri\", \"nagayama\", \"chiyuri_tiyuri\", \"tiyuri_chiyuri\"]\n",
    "    return random.choice(tag1)\n",
    "title1 = tag1()\n",
    "\n",
    "def tag2():\n",
    "    tag2 = [\"知由理ちゃん\", \"ちゆりん\", \"ちゆちゆ\"]\n",
    "    return random.choice(tag2)\n",
    "title2 = tag2()\n",
    "\n",
    "def tag3():\n",
    "    tag3 = [\"chiyuri_nagayama\", \"nagayama_chiyuri\"]\n",
    "    return random.choice(tag3)\n",
    "title3 = tag3()\n",
    "\n",
    "def tag4():\n",
    "    tag4 = [\"tiyuri_nagayama\", \"nagayama_tiyuri\"]\n",
    "    return random.choice(tag4)\n",
    "title4 = tag4()\n",
    "\n",
    "def tag5():\n",
    "    tag5 = [\"長山知由理\", \"長山ちゆり\", \"ながやまちゆり\"]\n",
    "    return random.choice(tag5)\n",
    "title5 = tag5()\n",
    "\n",
    "def tag6():\n",
    "    tag6= [\"chiyuri_chiyuri\", \"chiyuri_tiyuri\", \"tiyuri_chiyuri\"]\n",
    "    return random.choice(tag6)\n",
    "title6= tag6()\n",
    "\n",
    "print(title1, title2, title3, title4, title5, title6)\n",
    "\n",
    "def comment():\n",
    "    comment = [\"今日も元気です。\", \"今日も順調です。\", \"今日も楽しく過ごしています。\"]\n",
    "    return random.choice(comment)\n",
    "subtitle = comment()\n",
    "\n",
    "def name():\n",
    "    name = [\"長山 知由理\", \"長山 ちゆり\", \"Chiyuri Chiyuri\", \"Chiyuri Tiyuri\", \"Tiyuri Chiyuri\"]\n",
    "    return random.choice(name)\n",
    "meishi = name()\n",
    "\n",
    "print(subtitle, \"by\", meishi)\n"
   ]
  },
  {
   "cell_type": "raw",
   "id": "612f7902",
   "metadata": {},
   "source": []
  },
  {
   "cell_type": "markdown",
   "id": "04c7c6b5",
   "metadata": {},
   "source": [
    "＊＊＊お休みの日（休日・祝日など）＊＊＊"
   ]
  },
  {
   "cell_type": "code",
   "execution_count": null,
   "id": "1505bff0",
   "metadata": {},
   "outputs": [],
   "source": [
    "import random\n",
    "\n",
    "def tag():\n",
    "    tag = [\"work\", \"experiment\", \"room\", \"home\", \"walking\", \"science\", \"lifestyle\", \"city\", \"park\"]\n",
    "    return random.choice(tag)\n",
    "title = tag()\n",
    "\n",
    "def name2():\n",
    "    name2 = [\"@長山 知由理\", \"@長山 ちゆり\", \"@Chiyuri Chiyuri\", \"@Chiyuri Tiyuri\", \"@Tiyuri Chiyuri\"]\n",
    "    return random.choice(name2)\n",
    "meishi2 = name2()\n",
    "\n",
    "print(title, meishi2)\n",
    "\n",
    "def tag1():\n",
    "    tag1 = [\"chiyuri\", \"tiyuri\", \"nagayama\", \"chiyuri_tiyuri\", \"tiyuri_chiyuri\"]\n",
    "    return random.choice(tag1)\n",
    "title1 = tag1()\n",
    "\n",
    "def tag2():\n",
    "    tag2 = [\"知由理ちゃん\", \"ちゆりん\", \"ちゆちゆ\"]\n",
    "    return random.choice(tag2)\n",
    "title2 = tag2()\n",
    "\n",
    "def tag3():\n",
    "    tag3 = [\"chiyuri_nagayama\", \"nagayama_chiyuri\"]\n",
    "    return random.choice(tag3)\n",
    "title3 = tag3()\n",
    "\n",
    "def tag4():\n",
    "    tag4 = [\"tiyuri_nagayama\", \"nagayama_tiyuri\"]\n",
    "    return random.choice(tag4)\n",
    "title4 = tag4()\n",
    "\n",
    "def tag5():\n",
    "    tag5 = [\"長山知由理\", \"長山ちゆり\", \"ながやまちゆり\"]\n",
    "    return random.choice(tag5)\n",
    "title5 = tag5()\n",
    "\n",
    "def tag6():\n",
    "    tag6= [\"chiyuri_chiyuri\", \"chiyuri_tiyuri\", \"tiyuri_chiyuri\"]\n",
    "    return random.choice(tag6)\n",
    "title6= tag6()\n",
    "\n",
    "print(title1, title2, title3, title4, title5, title6)\n",
    "\n",
    "def comment():\n",
    "    comment = [\"今日も元気です。\", \"今日も順調です。\", \"今日も楽しく過ごしています。\"]\n",
    "    return random.choice(comment)\n",
    "subtitle = comment()\n",
    "\n",
    "def name2():\n",
    "    name2 = [\"Chiyuri Nagayama\", \"Nagayama Chiyuri\", \"Tiyuri Nagayama\", \"Nagayama Tiyuri\"\n",
    "            \"Chiyuri Chiyuri\", \"Chiyuri Tiyuri\", \"Tiyuri Chiyuri\"]\n",
    "    return random.choice(name2)\n",
    "meishi = name2()\n",
    "\n",
    "print(subtitle, \"by\", meishi)\n"
   ]
  },
  {
   "cell_type": "code",
   "execution_count": null,
   "id": "f165ced3",
   "metadata": {},
   "outputs": [],
   "source": []
  }
 ],
 "metadata": {
  "kernelspec": {
   "display_name": "Python 3 (ipykernel)",
   "language": "python",
   "name": "python3"
  },
  "language_info": {
   "codemirror_mode": {
    "name": "ipython",
    "version": 3
   },
   "file_extension": ".py",
   "mimetype": "text/x-python",
   "name": "python",
   "nbconvert_exporter": "python",
   "pygments_lexer": "ipython3",
   "version": "3.9.12"
  }
 },
 "nbformat": 4,
 "nbformat_minor": 5
}
